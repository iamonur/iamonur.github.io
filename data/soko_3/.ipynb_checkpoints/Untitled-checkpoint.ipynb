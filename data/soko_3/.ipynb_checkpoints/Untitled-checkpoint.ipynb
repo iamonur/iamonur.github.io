{
 "cells": [
  {
   "cell_type": "code",
   "execution_count": 2,
   "metadata": {},
   "outputs": [],
   "source": [
    "import os"
   ]
  },
  {
   "cell_type": "code",
   "execution_count": 3,
   "metadata": {},
   "outputs": [],
   "source": [
    "files = os.listdir('data')"
   ]
  },
  {
   "cell_type": "code",
   "execution_count": 5,
   "metadata": {},
   "outputs": [],
   "source": [
    "RR = []\n",
    "EM = []\n",
    "HM = []\n",
    "MZ = []\n",
    "SB = []\n",
    "def append(game, file):\n",
    "    if game == \"RR\":\n",
    "        RR.append(file)\n",
    "    elif game == \"EM\":\n",
    "        EM.append(file)\n",
    "    elif game == \"HM\":\n",
    "        HM.append(file)\n",
    "    elif game == \"MZ\":\n",
    "        MZ.append(file)\n",
    "\n",
    "for file in files:\n",
    "    #f = open('data/'+file, 'r')\n",
    "    if \"Regular_Race\" in file:\n",
    "        append(\"RR\",file)\n",
    "    elif \"Race_Easy_Mode\" in file:\n",
    "        append(\"EM\",file)\n",
    "    elif \"Race_Hard_Mode\" in file:\n",
    "        append(\"HM\", file)\n",
    "    elif \"Sokoban\" in file:\n",
    "        append(\"SB\", file)\n",
    "    else:\n",
    "        append(\"MZ\", file)\n",
    "        \n",
    "RR.sort()\n",
    "EM.sort()\n",
    "HM.sort()\n",
    "MZ.sort()\n",
    "SB.sort()"
   ]
  },
  {
   "cell_type": "code",
   "execution_count": 6,
   "metadata": {},
   "outputs": [],
   "source": [
    "from copy import deepcopy\n",
    "\n",
    "def judge(li):\n",
    "    expected = [\"level\", \"mcts\", \"spin\"]\n",
    "    to_ret = []\n",
    "    tbr = []\n",
    "    for name in li:\n",
    "        if name.split('_')[-1] == expected[0]:#New record\n",
    "            if tbr == []:\n",
    "                pass\n",
    "            else:\n",
    "                to_ret.append(deepcopy(tbr))\n",
    "                tbr.clear()\n",
    "            tbr.append(name)\n",
    "        else:\n",
    "            tbr.append(name)\n",
    "    return to_ret\n",
    "\n",
    "RR = judge(RR)\n",
    "EM = judge(EM)\n",
    "HM = judge(HM)\n",
    "MZ = judge(MZ)\n",
    "SB = judge(SB)"
   ]
  },
  {
   "cell_type": "code",
   "execution_count": 7,
   "metadata": {},
   "outputs": [],
   "source": [
    "import pandas as pd\n",
    "indexes = ['lvl_size', 'M_points', 'M_moves', 'M_term', 'M_time', 'S_point', 'S_moves', 'S_term', 'S_time']\n",
    "def record_level(level):\n",
    "    sz = level[0].split('_')[1]\n",
    "    if len(level) == 1:\n",
    "        data = [sz, None, None, None, None, None, None, None, None]\n",
    "    else:\n",
    "        f = open(\"data/\"+level[1], 'r')#mcts\n",
    "        lines = f.readlines()\n",
    "        m_points = int(lines[0].split(': ')[-1])\n",
    "        m_term = bool(lines[1].split(': ')[-1])\n",
    "        m_time = float(lines[2].split(':')[-1])\n",
    "        m_moves= lines[3].split(': ')[-1]\n",
    "        f.close()\n",
    "        \n",
    "        f = open(\"data/\"+level[2], 'r')#spin\n",
    "        lines = f.readlines()\n",
    "        s_points = int(lines[0].split(': ')[-1])\n",
    "        s_term = bool(lines[1].split(': ')[-1])\n",
    "        s_time = float(lines[2].split(':')[-1])\n",
    "        s_moves= lines[3].split(': ')[-1][:-6]\n",
    "        f.close()\n",
    "        \n",
    "        data = [sz, m_points, m_moves, m_term, m_time, s_points, s_moves, s_term, s_time]\n",
    "    return data\n"
   ]
  },
  {
   "cell_type": "code",
   "execution_count": 8,
   "metadata": {},
   "outputs": [
    {
     "data": {
      "text/html": [
       "<table border=\"1\" class=\"dataframe\">\n",
       "  <thead>\n",
       "    <tr style=\"text-align: right;\">\n",
       "      <th></th>\n",
       "      <th>lvl_size</th>\n",
       "      <th>M_points</th>\n",
       "      <th>M_moves</th>\n",
       "      <th>M_term</th>\n",
       "      <th>M_time</th>\n",
       "      <th>S_point</th>\n",
       "      <th>S_moves</th>\n",
       "      <th>S_term</th>\n",
       "      <th>S_time</th>\n",
       "    </tr>\n",
       "  </thead>\n",
       "  <tbody>\n",
       "  </tbody>\n",
       "</table>"
      ],
      "text/plain": [
       "<IPython.core.display.HTML object>"
      ]
     },
     "metadata": {},
     "output_type": "display_data"
    }
   ],
   "source": [
    "#THOSE ARE THE REGULAR RACES\n",
    "\n",
    "rr_data = []\n",
    "for rr in RR:\n",
    "    rr_data.append(record_level(rr))\n",
    "    \n",
    "rr_df = pd.DataFrame(rr_data, columns=indexes)\n",
    "\n",
    "from IPython.display import display, HTML\n",
    "\n",
    "display(HTML(rr_df.to_html()))"
   ]
  },
  {
   "cell_type": "code",
   "execution_count": 9,
   "metadata": {},
   "outputs": [
    {
     "data": {
      "text/html": [
       "<table border=\"1\" class=\"dataframe\">\n",
       "  <thead>\n",
       "    <tr style=\"text-align: right;\">\n",
       "      <th></th>\n",
       "      <th>lvl_size</th>\n",
       "      <th>M_points</th>\n",
       "      <th>M_moves</th>\n",
       "      <th>M_term</th>\n",
       "      <th>M_time</th>\n",
       "      <th>S_point</th>\n",
       "      <th>S_moves</th>\n",
       "      <th>S_term</th>\n",
       "      <th>S_time</th>\n",
       "    </tr>\n",
       "  </thead>\n",
       "  <tbody>\n",
       "  </tbody>\n",
       "</table>"
      ],
      "text/plain": [
       "<IPython.core.display.HTML object>"
      ]
     },
     "metadata": {},
     "output_type": "display_data"
    }
   ],
   "source": [
    "#THOSE ARE THE EASY MODE RACES\n",
    "\n",
    "em_data = []\n",
    "for em in EM:\n",
    "    em_data.append(record_level(em))\n",
    "    \n",
    "em_df = pd.DataFrame(em_data, columns=indexes)\n",
    "\n",
    "from IPython.display import display, HTML\n",
    "\n",
    "display(HTML(em_df.to_html()))"
   ]
  },
  {
   "cell_type": "code",
   "execution_count": 10,
   "metadata": {},
   "outputs": [
    {
     "data": {
      "text/html": [
       "<table border=\"1\" class=\"dataframe\">\n",
       "  <thead>\n",
       "    <tr style=\"text-align: right;\">\n",
       "      <th></th>\n",
       "      <th>lvl_size</th>\n",
       "      <th>M_points</th>\n",
       "      <th>M_moves</th>\n",
       "      <th>M_term</th>\n",
       "      <th>M_time</th>\n",
       "      <th>S_point</th>\n",
       "      <th>S_moves</th>\n",
       "      <th>S_term</th>\n",
       "      <th>S_time</th>\n",
       "    </tr>\n",
       "  </thead>\n",
       "  <tbody>\n",
       "  </tbody>\n",
       "</table>"
      ],
      "text/plain": [
       "<IPython.core.display.HTML object>"
      ]
     },
     "metadata": {},
     "output_type": "display_data"
    }
   ],
   "source": [
    "#THOSE ARE THE HARD MODE RACES\n",
    "\n",
    "hm_data = []\n",
    "for hm in HM:\n",
    "    hm_data.append(record_level(hm))\n",
    "    \n",
    "hm_df = pd.DataFrame(hm_data, columns=indexes)\n",
    "\n",
    "from IPython.display import display, HTML\n",
    "\n",
    "display(HTML(hm_df.to_html()))"
   ]
  },
  {
   "cell_type": "code",
   "execution_count": 11,
   "metadata": {},
   "outputs": [
    {
     "data": {
      "text/html": [
       "<table border=\"1\" class=\"dataframe\">\n",
       "  <thead>\n",
       "    <tr style=\"text-align: right;\">\n",
       "      <th></th>\n",
       "      <th>lvl_size</th>\n",
       "      <th>M_points</th>\n",
       "      <th>M_moves</th>\n",
       "      <th>M_term</th>\n",
       "      <th>M_time</th>\n",
       "      <th>S_point</th>\n",
       "      <th>S_moves</th>\n",
       "      <th>S_term</th>\n",
       "      <th>S_time</th>\n",
       "    </tr>\n",
       "  </thead>\n",
       "  <tbody>\n",
       "  </tbody>\n",
       "</table>"
      ],
      "text/plain": [
       "<IPython.core.display.HTML object>"
      ]
     },
     "metadata": {},
     "output_type": "display_data"
    }
   ],
   "source": [
    "#THOSE ARE THE MAZES\n",
    "\n",
    "mz_data = []\n",
    "for mz in MZ:\n",
    "    mz_data.append(record_level(mz))\n",
    "    \n",
    "mz_df = pd.DataFrame(mz_data, columns=indexes)\n",
    "\n",
    "from IPython.display import display, HTML\n",
    "\n",
    "display(HTML(mz_df.to_html()))"
   ]
  },
  {
   "cell_type": "code",
   "execution_count": 12,
   "metadata": {},
   "outputs": [
    {
     "data": {
      "text/html": [
       "<table border=\"1\" class=\"dataframe\">\n",
       "  <thead>\n",
       "    <tr style=\"text-align: right;\">\n",
       "      <th></th>\n",
       "      <th>lvl_size</th>\n",
       "      <th>M_points</th>\n",
       "      <th>M_moves</th>\n",
       "      <th>M_term</th>\n",
       "      <th>M_time</th>\n",
       "      <th>S_point</th>\n",
       "      <th>S_moves</th>\n",
       "      <th>S_term</th>\n",
       "      <th>S_time</th>\n",
       "    </tr>\n",
       "  </thead>\n",
       "  <tbody>\n",
       "  </tbody>\n",
       "</table>"
      ],
      "text/plain": [
       "<IPython.core.display.HTML object>"
      ]
     },
     "metadata": {},
     "output_type": "display_data"
    }
   ],
   "source": [
    "#THOSE ARE THE MAZES\n",
    "\n",
    "sb_data = []\n",
    "for sb in SB:\n",
    "    sb_data.append(record_level(sb))\n",
    "    \n",
    "sb_df = pd.DataFrame(sb_data, columns=indexes)\n",
    "\n",
    "from IPython.display import display, HTML\n",
    "\n",
    "display(HTML(sb_df.to_html()))"
   ]
  },
  {
   "cell_type": "code",
   "execution_count": null,
   "metadata": {},
   "outputs": [],
   "source": []
  }
 ],
 "metadata": {
  "kernelspec": {
   "display_name": "Python 3",
   "language": "python",
   "name": "python3"
  },
  "language_info": {
   "codemirror_mode": {
    "name": "ipython",
    "version": 3
   },
   "file_extension": ".py",
   "mimetype": "text/x-python",
   "name": "python",
   "nbconvert_exporter": "python",
   "pygments_lexer": "ipython3",
   "version": "3.6.9"
  }
 },
 "nbformat": 4,
 "nbformat_minor": 2
}
