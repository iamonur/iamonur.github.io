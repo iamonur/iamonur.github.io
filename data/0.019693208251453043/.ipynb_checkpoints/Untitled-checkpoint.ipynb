{
 "cells": [
  {
   "cell_type": "code",
   "execution_count": 1,
   "metadata": {},
   "outputs": [],
   "source": [
    "import os"
   ]
  },
  {
   "cell_type": "code",
   "execution_count": 12,
   "metadata": {},
   "outputs": [],
   "source": [
    "files = os.listdir('data')"
   ]
  },
  {
   "cell_type": "code",
   "execution_count": 38,
   "metadata": {},
   "outputs": [],
   "source": [
    "RR = []\n",
    "EM = []\n",
    "HM = []\n",
    "MZ = []\n",
    "def append(game, file):\n",
    "    if game == \"RR\":\n",
    "        RR.append(file)\n",
    "    elif game == \"EM\":\n",
    "        EM.append(file)\n",
    "    elif game == \"HM\":\n",
    "        HM.append(file)\n",
    "    elif game == \"MZ\":\n",
    "        MZ.append(file)\n",
    "\n",
    "for file in files:\n",
    "    #f = open('data/'+file, 'r')\n",
    "    if \"Regular_Race\" in file:\n",
    "        append(\"RR\",file)\n",
    "    elif \"Race_Easy_Mode\" in file:\n",
    "        append(\"EM\",file)\n",
    "    elif \"Race_Hard_Mode\" in file:\n",
    "        append(\"HM\", file)\n",
    "    else:\n",
    "        append(\"MZ\", file)\n",
    "        \n",
    "RR.sort()\n",
    "EM.sort()\n",
    "HM.sort()\n",
    "MZ.sort()"
   ]
  },
  {
   "cell_type": "code",
   "execution_count": 39,
   "metadata": {},
   "outputs": [
    {
     "name": "stdout",
     "output_type": "stream",
     "text": [
      "[['0.019693208251453043_10_Regular_Race_0_level'], ['0.019693208251453043_10_Regular_Race_1_level'], ['0.019693208251453043_10_Regular_Race_2_level'], ['0.019693208251453043_10_Regular_Race_3_level'], ['0.019693208251453043_10_Regular_Race_4_level'], ['0.019693208251453043_10_Regular_Race_5_level'], ['0.019693208251453043_10_Regular_Race_6_level', '0.019693208251453043_10_Regular_Race_6_mcts', '0.019693208251453043_10_Regular_Race_6_spin'], ['0.019693208251453043_10_Regular_Race_7_level'], ['0.019693208251453043_12_Regular_Race_0_level'], ['0.019693208251453043_12_Regular_Race_1_level'], ['0.019693208251453043_12_Regular_Race_2_level'], ['0.019693208251453043_12_Regular_Race_3_level', '0.019693208251453043_12_Regular_Race_3_mcts', '0.019693208251453043_12_Regular_Race_3_spin'], ['0.019693208251453043_12_Regular_Race_4_level'], ['0.019693208251453043_12_Regular_Race_5_level'], ['0.019693208251453043_12_Regular_Race_6_level'], ['0.019693208251453043_12_Regular_Race_7_level'], ['0.019693208251453043_14_Regular_Race_0_level', '0.019693208251453043_14_Regular_Race_0_mcts', '0.019693208251453043_14_Regular_Race_0_spin'], ['0.019693208251453043_14_Regular_Race_1_level', '0.019693208251453043_14_Regular_Race_1_mcts', '0.019693208251453043_14_Regular_Race_1_spin'], ['0.019693208251453043_14_Regular_Race_2_level'], ['0.019693208251453043_14_Regular_Race_3_level'], ['0.019693208251453043_14_Regular_Race_4_level'], ['0.019693208251453043_14_Regular_Race_5_level', '0.019693208251453043_14_Regular_Race_5_mcts', '0.019693208251453043_14_Regular_Race_5_spin'], ['0.019693208251453043_14_Regular_Race_6_level'], ['0.019693208251453043_14_Regular_Race_7_level'], ['0.019693208251453043_16_Regular_Race_0_level', '0.019693208251453043_16_Regular_Race_0_mcts', '0.019693208251453043_16_Regular_Race_0_spin'], ['0.019693208251453043_16_Regular_Race_1_level'], ['0.019693208251453043_16_Regular_Race_2_level'], ['0.019693208251453043_16_Regular_Race_3_level', '0.019693208251453043_16_Regular_Race_3_mcts', '0.019693208251453043_16_Regular_Race_3_spin'], ['0.019693208251453043_16_Regular_Race_4_level', '0.019693208251453043_16_Regular_Race_4_mcts', '0.019693208251453043_16_Regular_Race_4_spin'], ['0.019693208251453043_16_Regular_Race_5_level'], ['0.019693208251453043_16_Regular_Race_6_level', '0.019693208251453043_16_Regular_Race_6_mcts', '0.019693208251453043_16_Regular_Race_6_spin'], ['0.019693208251453043_16_Regular_Race_7_level'], ['0.019693208251453043_18_Regular_Race_0_level'], ['0.019693208251453043_18_Regular_Race_1_level', '0.019693208251453043_18_Regular_Race_1_mcts', '0.019693208251453043_18_Regular_Race_1_spin'], ['0.019693208251453043_18_Regular_Race_2_level'], ['0.019693208251453043_18_Regular_Race_3_level', '0.019693208251453043_18_Regular_Race_3_mcts', '0.019693208251453043_18_Regular_Race_3_spin'], ['0.019693208251453043_18_Regular_Race_4_level'], ['0.019693208251453043_18_Regular_Race_5_level', '0.019693208251453043_18_Regular_Race_5_mcts', '0.019693208251453043_18_Regular_Race_5_spin'], ['0.019693208251453043_18_Regular_Race_6_level'], ['0.019693208251453043_18_Regular_Race_7_level', '0.019693208251453043_18_Regular_Race_7_mcts', '0.019693208251453043_18_Regular_Race_7_spin'], ['0.019693208251453043_20_Regular_Race_0_level', '0.019693208251453043_20_Regular_Race_0_mcts', '0.019693208251453043_20_Regular_Race_0_spin'], ['0.019693208251453043_20_Regular_Race_1_level'], ['0.019693208251453043_20_Regular_Race_2_level'], ['0.019693208251453043_20_Regular_Race_3_level'], ['0.019693208251453043_20_Regular_Race_4_level'], ['0.019693208251453043_20_Regular_Race_5_level'], ['0.019693208251453043_20_Regular_Race_6_level'], ['0.019693208251453043_20_Regular_Race_7_level'], ['0.019693208251453043_22_Regular_Race_0_level'], ['0.019693208251453043_22_Regular_Race_1_level'], ['0.019693208251453043_22_Regular_Race_2_level', '0.019693208251453043_22_Regular_Race_2_mcts', '0.019693208251453043_22_Regular_Race_2_spin'], ['0.019693208251453043_22_Regular_Race_3_level', '0.019693208251453043_22_Regular_Race_3_mcts', '0.019693208251453043_22_Regular_Race_3_spin'], ['0.019693208251453043_22_Regular_Race_4_level'], ['0.019693208251453043_22_Regular_Race_5_level'], ['0.019693208251453043_22_Regular_Race_6_level', '0.019693208251453043_22_Regular_Race_6_mcts', '0.019693208251453043_22_Regular_Race_6_spin'], ['0.019693208251453043_22_Regular_Race_7_level'], ['0.019693208251453043_24_Regular_Race_0_level'], ['0.019693208251453043_24_Regular_Race_1_level'], ['0.019693208251453043_24_Regular_Race_2_level', '0.019693208251453043_24_Regular_Race_2_mcts', '0.019693208251453043_24_Regular_Race_2_spin'], ['0.019693208251453043_24_Regular_Race_3_level'], ['0.019693208251453043_24_Regular_Race_4_level'], ['0.019693208251453043_24_Regular_Race_5_level'], ['0.019693208251453043_24_Regular_Race_6_level'], ['0.019693208251453043_24_Regular_Race_7_level'], ['0.019693208251453043_8_Regular_Race_0_level'], ['0.019693208251453043_8_Regular_Race_1_level'], ['0.019693208251453043_8_Regular_Race_2_level'], ['0.019693208251453043_8_Regular_Race_3_level'], ['0.019693208251453043_8_Regular_Race_4_level'], ['0.019693208251453043_8_Regular_Race_5_level'], ['0.019693208251453043_8_Regular_Race_6_level', '0.019693208251453043_8_Regular_Race_6_mcts', '0.019693208251453043_8_Regular_Race_6_spin']]\n"
     ]
    }
   ],
   "source": [
    "from copy import deepcopy\n",
    "\n",
    "def judge(li):\n",
    "    expected = [\"level\", \"mcts\", \"spin\"]\n",
    "    to_ret = []\n",
    "    tbr = []\n",
    "    for name in li:\n",
    "        if name.split('_')[-1] == expected[0]:#New record\n",
    "            if tbr == []:\n",
    "                pass\n",
    "            else:\n",
    "                to_ret.append(deepcopy(tbr))\n",
    "                tbr.clear()\n",
    "            tbr.append(name)\n",
    "        else:\n",
    "            tbr.append(name)\n",
    "    return to_ret\n",
    "\n",
    "RR = judge(RR)\n",
    "EM = judge(EM)\n",
    "HM = judge(HM)\n",
    "MZ = judge(MZ)\n"
   ]
  },
  {
   "cell_type": "code",
   "execution_count": 41,
   "metadata": {},
   "outputs": [],
   "source": [
    "import pandas as pd\n",
    "def record_level(level):\n",
    "    sz = level[0].split('_')[1]\n",
    "    indexes = ['lvl_size', 'M_points', 'M_moves', 'M_term', 'M_time', 'S_point', 'S_moves', 'S_term', 'S_time']\n",
    "    if len(level) == 1:\n",
    "        data = [sz, None, None, None, None, None, None, None, None]\n",
    "    else:\n",
    "        f = open(level[1], 'r')#mcts\n",
    "        lines = f.readlines()\n",
    "        m_points = int(lines[0].split(': ')[-1])\n",
    "        m_term = bool(lines[1].split(': ')[-1])\n",
    "        m_time = float(lines[2].split(':')[-1])\n",
    "        m_moves= lines[3].split(': ')[-1]\n",
    "        f.close()\n",
    "        \n",
    "        f = open(level[2], 'r')#spin\n",
    "        lines = f.readlines()\n",
    "        s_points = int(lines[0].split(': ')[-1])\n",
    "        s_term = bool(lines[1].split(': ')[-1])\n",
    "        s_time = float(lines[2].split(':')[-1])\n",
    "        s_moves= lines[3].split(': ')[-1]\n",
    "        f.close()\n",
    "        \n",
    "        data = [sz, m_points, m_moves, m_term, m_time, s_points, s_moves, s_term, s_time]\n",
    "    return pd.Series(data, indexes)"
   ]
  },
  {
   "cell_type": "code",
   "execution_count": 42,
   "metadata": {},
   "outputs": [
    {
     "ename": "ValueError",
     "evalue": "Length of passed values is 7, index implies 9.",
     "output_type": "error",
     "traceback": [
      "\u001b[0;31m---------------------------------------------------------------------------\u001b[0m",
      "\u001b[0;31mValueError\u001b[0m                                Traceback (most recent call last)",
      "\u001b[0;32m<ipython-input-42-715d820b12b3>\u001b[0m in \u001b[0;36m<module>\u001b[0;34m()\u001b[0m\n\u001b[1;32m      1\u001b[0m \u001b[0masd\u001b[0m \u001b[0;34m=\u001b[0m \u001b[0;34m[\u001b[0m\u001b[0;34m]\u001b[0m\u001b[0;34m\u001b[0m\u001b[0;34m\u001b[0m\u001b[0m\n\u001b[1;32m      2\u001b[0m \u001b[0;32mfor\u001b[0m \u001b[0mrr\u001b[0m \u001b[0;32min\u001b[0m \u001b[0mRR\u001b[0m\u001b[0;34m:\u001b[0m\u001b[0;34m\u001b[0m\u001b[0;34m\u001b[0m\u001b[0m\n\u001b[0;32m----> 3\u001b[0;31m     \u001b[0masd\u001b[0m\u001b[0;34m.\u001b[0m\u001b[0mappend\u001b[0m\u001b[0;34m(\u001b[0m\u001b[0mrecord_level\u001b[0m\u001b[0;34m(\u001b[0m\u001b[0mrr\u001b[0m\u001b[0;34m)\u001b[0m\u001b[0;34m)\u001b[0m\u001b[0;34m\u001b[0m\u001b[0;34m\u001b[0m\u001b[0m\n\u001b[0m",
      "\u001b[0;32m<ipython-input-41-5044ad6bcd7b>\u001b[0m in \u001b[0;36mrecord_level\u001b[0;34m(level)\u001b[0m\n\u001b[1;32m     23\u001b[0m \u001b[0;34m\u001b[0m\u001b[0m\n\u001b[1;32m     24\u001b[0m         \u001b[0mdata\u001b[0m \u001b[0;34m=\u001b[0m \u001b[0;34m[\u001b[0m\u001b[0msz\u001b[0m\u001b[0;34m,\u001b[0m \u001b[0mm_points\u001b[0m\u001b[0;34m,\u001b[0m \u001b[0mm_moves\u001b[0m\u001b[0;34m,\u001b[0m \u001b[0mm_term\u001b[0m\u001b[0;34m,\u001b[0m \u001b[0mm_time\u001b[0m\u001b[0;34m,\u001b[0m \u001b[0ms_points\u001b[0m\u001b[0;34m,\u001b[0m \u001b[0ms_moves\u001b[0m\u001b[0;34m,\u001b[0m \u001b[0ms_term\u001b[0m\u001b[0;34m,\u001b[0m \u001b[0ms_time\u001b[0m\u001b[0;34m]\u001b[0m\u001b[0;34m\u001b[0m\u001b[0;34m\u001b[0m\u001b[0m\n\u001b[0;32m---> 25\u001b[0;31m     \u001b[0;32mreturn\u001b[0m \u001b[0mpd\u001b[0m\u001b[0;34m.\u001b[0m\u001b[0mSeries\u001b[0m\u001b[0;34m(\u001b[0m\u001b[0mdata\u001b[0m\u001b[0;34m,\u001b[0m \u001b[0mindexes\u001b[0m\u001b[0;34m)\u001b[0m\u001b[0;34m\u001b[0m\u001b[0;34m\u001b[0m\u001b[0m\n\u001b[0m",
      "\u001b[0;32m/usr/local/lib/python3.6/dist-packages/pandas/core/series.py\u001b[0m in \u001b[0;36m__init__\u001b[0;34m(self, data, index, dtype, name, copy, fastpath)\u001b[0m\n\u001b[1;32m    312\u001b[0m                     \u001b[0;32mif\u001b[0m \u001b[0mlen\u001b[0m\u001b[0;34m(\u001b[0m\u001b[0mindex\u001b[0m\u001b[0;34m)\u001b[0m \u001b[0;34m!=\u001b[0m \u001b[0mlen\u001b[0m\u001b[0;34m(\u001b[0m\u001b[0mdata\u001b[0m\u001b[0;34m)\u001b[0m\u001b[0;34m:\u001b[0m\u001b[0;34m\u001b[0m\u001b[0;34m\u001b[0m\u001b[0m\n\u001b[1;32m    313\u001b[0m                         raise ValueError(\n\u001b[0;32m--> 314\u001b[0;31m                             \u001b[0;34mf\"Length of passed values is {len(data)}, \"\u001b[0m\u001b[0;34m\u001b[0m\u001b[0;34m\u001b[0m\u001b[0m\n\u001b[0m\u001b[1;32m    315\u001b[0m                             \u001b[0;34mf\"index implies {len(index)}.\"\u001b[0m\u001b[0;34m\u001b[0m\u001b[0;34m\u001b[0m\u001b[0m\n\u001b[1;32m    316\u001b[0m                         )\n",
      "\u001b[0;31mValueError\u001b[0m: Length of passed values is 7, index implies 9."
     ]
    }
   ],
   "source": [
    "asd = []\n",
    "for rr in RR:\n",
    "    asd.append(record_level(rr))"
   ]
  },
  {
   "cell_type": "code",
   "execution_count": null,
   "metadata": {},
   "outputs": [],
   "source": []
  }
 ],
 "metadata": {
  "kernelspec": {
   "display_name": "Python 3",
   "language": "python",
   "name": "python3"
  },
  "language_info": {
   "codemirror_mode": {
    "name": "ipython",
    "version": 3
   },
   "file_extension": ".py",
   "mimetype": "text/x-python",
   "name": "python",
   "nbconvert_exporter": "python",
   "pygments_lexer": "ipython3",
   "version": "3.6.9"
  }
 },
 "nbformat": 4,
 "nbformat_minor": 2
}
